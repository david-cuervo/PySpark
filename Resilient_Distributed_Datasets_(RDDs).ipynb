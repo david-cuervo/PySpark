{
  "nbformat": 4,
  "nbformat_minor": 0,
  "metadata": {
    "colab": {
      "name": "Resilient Distributed Datasets (RDDs).ipynb",
      "provenance": [],
      "authorship_tag": "ABX9TyMmQaGI8UWgl+NXy2+xmqXH",
      "include_colab_link": true
    },
    "kernelspec": {
      "name": "python3",
      "display_name": "Python 3"
    }
  },
  "cells": [
    {
      "cell_type": "markdown",
      "metadata": {
        "id": "view-in-github",
        "colab_type": "text"
      },
      "source": [
        "<a href=\"https://colab.research.google.com/github/david-cuervo/PySpark/blob/main/Resilient_Distributed_Datasets_(RDDs).ipynb\" target=\"_parent\"><img src=\"https://colab.research.google.com/assets/colab-badge.svg\" alt=\"Open In Colab\"/></a>"
      ]
    },
    {
      "cell_type": "code",
      "metadata": {
        "colab": {
          "base_uri": "https://localhost:8080/"
        },
        "id": "48qVl4lN9vvt",
        "outputId": "995368da-a40f-434e-9771-8f0fbd7da89a"
      },
      "source": [
        "data = list(range(1,1001))\n",
        "len(data)"
      ],
      "execution_count": 2,
      "outputs": [
        {
          "output_type": "execute_result",
          "data": {
            "text/plain": [
              "1000"
            ]
          },
          "metadata": {
            "tags": []
          },
          "execution_count": 2
        }
      ]
    },
    {
      "cell_type": "code",
      "metadata": {
        "colab": {
          "base_uri": "https://localhost:8080/"
        },
        "id": "xv9nJrpVCJuN",
        "outputId": "9e47ebb8-c311-46d9-f4fa-c751acd6f6b4"
      },
      "source": [
        "!apt update"
      ],
      "execution_count": 3,
      "outputs": [
        {
          "output_type": "stream",
          "text": [
            "\u001b[33m\r0% [Working]\u001b[0m\r            \rGet:1 http://security.ubuntu.com/ubuntu bionic-security InRelease [88.7 kB]\n",
            "\u001b[33m\r0% [Connecting to archive.ubuntu.com (91.189.88.142)] [1 InRelease 14.2 kB/88.7\u001b[0m\u001b[33m\r0% [Waiting for headers] [Waiting for headers] [Waiting for headers] [Waiting f\u001b[0m\u001b[33m\r0% [1 InRelease gpgv 88.7 kB] [Waiting for headers] [Waiting for headers] [Wait\u001b[0m\r                                                                               \rIgn:2 https://developer.download.nvidia.com/compute/cuda/repos/ubuntu1804/x86_64  InRelease\n",
            "Get:3 https://cloud.r-project.org/bin/linux/ubuntu bionic-cran40/ InRelease [3,626 B]\n",
            "Get:4 http://ppa.launchpad.net/c2d4u.team/c2d4u4.0+/ubuntu bionic InRelease [15.9 kB]\n",
            "Hit:5 http://archive.ubuntu.com/ubuntu bionic InRelease\n",
            "Ign:6 https://developer.download.nvidia.com/compute/machine-learning/repos/ubuntu1804/x86_64  InRelease\n",
            "Hit:7 https://developer.download.nvidia.com/compute/cuda/repos/ubuntu1804/x86_64  Release\n",
            "Hit:8 https://developer.download.nvidia.com/compute/machine-learning/repos/ubuntu1804/x86_64  Release\n",
            "Get:9 http://archive.ubuntu.com/ubuntu bionic-updates InRelease [88.7 kB]\n",
            "Get:10 http://security.ubuntu.com/ubuntu bionic-security/restricted amd64 Packages [237 kB]\n",
            "Get:11 http://ppa.launchpad.net/graphics-drivers/ppa/ubuntu bionic InRelease [21.3 kB]\n",
            "Get:12 http://security.ubuntu.com/ubuntu bionic-security/multiverse amd64 Packages [15.3 kB]\n",
            "Get:13 http://security.ubuntu.com/ubuntu bionic-security/universe amd64 Packages [1,372 kB]\n",
            "Get:14 http://archive.ubuntu.com/ubuntu bionic-backports InRelease [74.6 kB]\n",
            "Get:15 http://security.ubuntu.com/ubuntu bionic-security/main amd64 Packages [1,814 kB]\n",
            "Get:16 https://cloud.r-project.org/bin/linux/ubuntu bionic-cran40/ Packages [40.7 kB]\n",
            "Get:19 http://ppa.launchpad.net/c2d4u.team/c2d4u4.0+/ubuntu bionic/main Sources [1,699 kB]\n",
            "Get:20 http://archive.ubuntu.com/ubuntu bionic-updates/multiverse amd64 Packages [53.8 kB]\n",
            "Get:21 http://archive.ubuntu.com/ubuntu bionic-updates/restricted amd64 Packages [266 kB]\n",
            "Get:22 http://archive.ubuntu.com/ubuntu bionic-updates/main amd64 Packages [2,243 kB]\n",
            "Get:23 http://archive.ubuntu.com/ubuntu bionic-updates/universe amd64 Packages [2,136 kB]\n",
            "Get:24 http://ppa.launchpad.net/c2d4u.team/c2d4u4.0+/ubuntu bionic/main amd64 Packages [870 kB]\n",
            "Get:25 http://ppa.launchpad.net/graphics-drivers/ppa/ubuntu bionic/main amd64 Packages [46.5 kB]\n",
            "Fetched 11.1 MB in 3s (3,255 kB/s)\n",
            "Reading package lists... Done\n",
            "Building dependency tree       \n",
            "Reading state information... Done\n",
            "36 packages can be upgraded. Run 'apt list --upgradable' to see them.\n"
          ],
          "name": "stdout"
        }
      ]
    },
    {
      "cell_type": "code",
      "metadata": {
        "id": "XtIOby0oCZ4c"
      },
      "source": [
        "!apt-get install openjdk-8-jdk-headless -qq > /dev/null\n",
        "!wget -q https://downloads.apache.org/spark/spark-2.4.7/spark-2.4.7-bin-hadoop2.7.tgz\n",
        "!tar xf spark-2.4.7-bin-hadoop2.7.tgz\n",
        "!pip install -q findspark"
      ],
      "execution_count": 4,
      "outputs": []
    },
    {
      "cell_type": "code",
      "metadata": {
        "id": "KgxX1R-qCm4d"
      },
      "source": [
        "import os\n",
        "os.environ[\"JAVA_HOME\"] = \"/usr/lib/jvm/java-1.8.0-openjdk-amd64\"\n",
        "os.environ[\"SPARK_HOME\"] = \"/content/spark-2.4.7-bin-hadoop2.7\""
      ],
      "execution_count": 5,
      "outputs": []
    },
    {
      "cell_type": "code",
      "metadata": {
        "id": "kJzLbQrLCpW2"
      },
      "source": [
        "import findspark\n",
        "findspark.init()"
      ],
      "execution_count": 6,
      "outputs": []
    },
    {
      "cell_type": "code",
      "metadata": {
        "id": "gqgzi6RYB5gt"
      },
      "source": [
        "import pyspark\n",
        "sc = pyspark.SparkContext('local[*]')"
      ],
      "execution_count": 7,
      "outputs": []
    },
    {
      "cell_type": "code",
      "metadata": {
        "colab": {
          "base_uri": "https://localhost:8080/"
        },
        "id": "w4lDIelACt9H",
        "outputId": "08520ad3-fa45-43ab-9c87-1b14fc8b059d"
      },
      "source": [
        "rdd = sc.parallelize(data, numSlices=10)\n",
        "print(type(rdd))"
      ],
      "execution_count": 8,
      "outputs": [
        {
          "output_type": "stream",
          "text": [
            "<class 'pyspark.rdd.RDD'>\n"
          ],
          "name": "stdout"
        }
      ]
    },
    {
      "cell_type": "code",
      "metadata": {
        "colab": {
          "base_uri": "https://localhost:8080/"
        },
        "id": "c_N9l73bDIhI",
        "outputId": "a5d079d6-8bc3-43a3-dfbf-640ddca75038"
      },
      "source": [
        "rdd.getNumPartitions"
      ],
      "execution_count": 9,
      "outputs": [
        {
          "output_type": "execute_result",
          "data": {
            "text/plain": [
              "<bound method RDD.getNumPartitions of ParallelCollectionRDD[0] at parallelize at PythonRDD.scala:195>"
            ]
          },
          "metadata": {
            "tags": []
          },
          "execution_count": 9
        }
      ]
    },
    {
      "cell_type": "markdown",
      "metadata": {
        "id": "8O8w7QGuDlWL"
      },
      "source": [
        "Basic descriptive RDD actions\n",
        "Let's perform some basic operations on our RDD. In the cell below, use the methods:\n",
        "\n",
        "\n",
        "*   count: returns the total count of items in the RDD\n",
        "*   first: returns the first item in the RDD\n",
        "*   take: returns the first n items in the RDD\n",
        "*   top: returns the top n items\n",
        "*   collect: returns everything from your RDD"
      ]
    },
    {
      "cell_type": "code",
      "metadata": {
        "colab": {
          "base_uri": "https://localhost:8080/"
        },
        "id": "Hb4V0nqpDQXx",
        "outputId": "5051f209-8e16-4bc1-87c9-aa93116e0dfa"
      },
      "source": [
        "rdd.count()"
      ],
      "execution_count": 10,
      "outputs": [
        {
          "output_type": "execute_result",
          "data": {
            "text/plain": [
              "1000"
            ]
          },
          "metadata": {
            "tags": []
          },
          "execution_count": 10
        }
      ]
    },
    {
      "cell_type": "code",
      "metadata": {
        "colab": {
          "base_uri": "https://localhost:8080/"
        },
        "id": "QbiklAjlDfVH",
        "outputId": "dc5040ac-90d6-4efe-f2ed-146ca10a98ee"
      },
      "source": [
        "rdd.first()"
      ],
      "execution_count": 11,
      "outputs": [
        {
          "output_type": "execute_result",
          "data": {
            "text/plain": [
              "1"
            ]
          },
          "metadata": {
            "tags": []
          },
          "execution_count": 11
        }
      ]
    },
    {
      "cell_type": "code",
      "metadata": {
        "colab": {
          "base_uri": "https://localhost:8080/"
        },
        "id": "AXjHQbsxDiVn",
        "outputId": "95ccdd15-87c8-40bc-a708-684917a3bd98"
      },
      "source": [
        "rdd.take(10)"
      ],
      "execution_count": 12,
      "outputs": [
        {
          "output_type": "execute_result",
          "data": {
            "text/plain": [
              "[1, 2, 3, 4, 5, 6, 7, 8, 9, 10]"
            ]
          },
          "metadata": {
            "tags": []
          },
          "execution_count": 12
        }
      ]
    },
    {
      "cell_type": "code",
      "metadata": {
        "colab": {
          "base_uri": "https://localhost:8080/"
        },
        "id": "Vg2rD0igEJDQ",
        "outputId": "317cc7ff-bfb2-419a-db44-46eb4ffa6b3f"
      },
      "source": [
        "rdd.top(10)"
      ],
      "execution_count": 13,
      "outputs": [
        {
          "output_type": "execute_result",
          "data": {
            "text/plain": [
              "[1000, 999, 998, 997, 996, 995, 994, 993, 992, 991]"
            ]
          },
          "metadata": {
            "tags": []
          },
          "execution_count": 13
        }
      ]
    },
    {
      "cell_type": "code",
      "metadata": {
        "colab": {
          "base_uri": "https://localhost:8080/"
        },
        "id": "zaVsBBQZEPaz",
        "outputId": "baaf8ddf-abfe-42e9-eb48-a8346e7a4eea"
      },
      "source": [
        "## Note: When you are dealing with big data, this could make your computer crash! It's best to avoid using the collect() method\n",
        "rdd.collect()"
      ],
      "execution_count": 14,
      "outputs": [
        {
          "output_type": "execute_result",
          "data": {
            "text/plain": [
              "[1,\n",
              " 2,\n",
              " 3,\n",
              " 4,\n",
              " 5,\n",
              " 6,\n",
              " 7,\n",
              " 8,\n",
              " 9,\n",
              " 10,\n",
              " 11,\n",
              " 12,\n",
              " 13,\n",
              " 14,\n",
              " 15,\n",
              " 16,\n",
              " 17,\n",
              " 18,\n",
              " 19,\n",
              " 20,\n",
              " 21,\n",
              " 22,\n",
              " 23,\n",
              " 24,\n",
              " 25,\n",
              " 26,\n",
              " 27,\n",
              " 28,\n",
              " 29,\n",
              " 30,\n",
              " 31,\n",
              " 32,\n",
              " 33,\n",
              " 34,\n",
              " 35,\n",
              " 36,\n",
              " 37,\n",
              " 38,\n",
              " 39,\n",
              " 40,\n",
              " 41,\n",
              " 42,\n",
              " 43,\n",
              " 44,\n",
              " 45,\n",
              " 46,\n",
              " 47,\n",
              " 48,\n",
              " 49,\n",
              " 50,\n",
              " 51,\n",
              " 52,\n",
              " 53,\n",
              " 54,\n",
              " 55,\n",
              " 56,\n",
              " 57,\n",
              " 58,\n",
              " 59,\n",
              " 60,\n",
              " 61,\n",
              " 62,\n",
              " 63,\n",
              " 64,\n",
              " 65,\n",
              " 66,\n",
              " 67,\n",
              " 68,\n",
              " 69,\n",
              " 70,\n",
              " 71,\n",
              " 72,\n",
              " 73,\n",
              " 74,\n",
              " 75,\n",
              " 76,\n",
              " 77,\n",
              " 78,\n",
              " 79,\n",
              " 80,\n",
              " 81,\n",
              " 82,\n",
              " 83,\n",
              " 84,\n",
              " 85,\n",
              " 86,\n",
              " 87,\n",
              " 88,\n",
              " 89,\n",
              " 90,\n",
              " 91,\n",
              " 92,\n",
              " 93,\n",
              " 94,\n",
              " 95,\n",
              " 96,\n",
              " 97,\n",
              " 98,\n",
              " 99,\n",
              " 100,\n",
              " 101,\n",
              " 102,\n",
              " 103,\n",
              " 104,\n",
              " 105,\n",
              " 106,\n",
              " 107,\n",
              " 108,\n",
              " 109,\n",
              " 110,\n",
              " 111,\n",
              " 112,\n",
              " 113,\n",
              " 114,\n",
              " 115,\n",
              " 116,\n",
              " 117,\n",
              " 118,\n",
              " 119,\n",
              " 120,\n",
              " 121,\n",
              " 122,\n",
              " 123,\n",
              " 124,\n",
              " 125,\n",
              " 126,\n",
              " 127,\n",
              " 128,\n",
              " 129,\n",
              " 130,\n",
              " 131,\n",
              " 132,\n",
              " 133,\n",
              " 134,\n",
              " 135,\n",
              " 136,\n",
              " 137,\n",
              " 138,\n",
              " 139,\n",
              " 140,\n",
              " 141,\n",
              " 142,\n",
              " 143,\n",
              " 144,\n",
              " 145,\n",
              " 146,\n",
              " 147,\n",
              " 148,\n",
              " 149,\n",
              " 150,\n",
              " 151,\n",
              " 152,\n",
              " 153,\n",
              " 154,\n",
              " 155,\n",
              " 156,\n",
              " 157,\n",
              " 158,\n",
              " 159,\n",
              " 160,\n",
              " 161,\n",
              " 162,\n",
              " 163,\n",
              " 164,\n",
              " 165,\n",
              " 166,\n",
              " 167,\n",
              " 168,\n",
              " 169,\n",
              " 170,\n",
              " 171,\n",
              " 172,\n",
              " 173,\n",
              " 174,\n",
              " 175,\n",
              " 176,\n",
              " 177,\n",
              " 178,\n",
              " 179,\n",
              " 180,\n",
              " 181,\n",
              " 182,\n",
              " 183,\n",
              " 184,\n",
              " 185,\n",
              " 186,\n",
              " 187,\n",
              " 188,\n",
              " 189,\n",
              " 190,\n",
              " 191,\n",
              " 192,\n",
              " 193,\n",
              " 194,\n",
              " 195,\n",
              " 196,\n",
              " 197,\n",
              " 198,\n",
              " 199,\n",
              " 200,\n",
              " 201,\n",
              " 202,\n",
              " 203,\n",
              " 204,\n",
              " 205,\n",
              " 206,\n",
              " 207,\n",
              " 208,\n",
              " 209,\n",
              " 210,\n",
              " 211,\n",
              " 212,\n",
              " 213,\n",
              " 214,\n",
              " 215,\n",
              " 216,\n",
              " 217,\n",
              " 218,\n",
              " 219,\n",
              " 220,\n",
              " 221,\n",
              " 222,\n",
              " 223,\n",
              " 224,\n",
              " 225,\n",
              " 226,\n",
              " 227,\n",
              " 228,\n",
              " 229,\n",
              " 230,\n",
              " 231,\n",
              " 232,\n",
              " 233,\n",
              " 234,\n",
              " 235,\n",
              " 236,\n",
              " 237,\n",
              " 238,\n",
              " 239,\n",
              " 240,\n",
              " 241,\n",
              " 242,\n",
              " 243,\n",
              " 244,\n",
              " 245,\n",
              " 246,\n",
              " 247,\n",
              " 248,\n",
              " 249,\n",
              " 250,\n",
              " 251,\n",
              " 252,\n",
              " 253,\n",
              " 254,\n",
              " 255,\n",
              " 256,\n",
              " 257,\n",
              " 258,\n",
              " 259,\n",
              " 260,\n",
              " 261,\n",
              " 262,\n",
              " 263,\n",
              " 264,\n",
              " 265,\n",
              " 266,\n",
              " 267,\n",
              " 268,\n",
              " 269,\n",
              " 270,\n",
              " 271,\n",
              " 272,\n",
              " 273,\n",
              " 274,\n",
              " 275,\n",
              " 276,\n",
              " 277,\n",
              " 278,\n",
              " 279,\n",
              " 280,\n",
              " 281,\n",
              " 282,\n",
              " 283,\n",
              " 284,\n",
              " 285,\n",
              " 286,\n",
              " 287,\n",
              " 288,\n",
              " 289,\n",
              " 290,\n",
              " 291,\n",
              " 292,\n",
              " 293,\n",
              " 294,\n",
              " 295,\n",
              " 296,\n",
              " 297,\n",
              " 298,\n",
              " 299,\n",
              " 300,\n",
              " 301,\n",
              " 302,\n",
              " 303,\n",
              " 304,\n",
              " 305,\n",
              " 306,\n",
              " 307,\n",
              " 308,\n",
              " 309,\n",
              " 310,\n",
              " 311,\n",
              " 312,\n",
              " 313,\n",
              " 314,\n",
              " 315,\n",
              " 316,\n",
              " 317,\n",
              " 318,\n",
              " 319,\n",
              " 320,\n",
              " 321,\n",
              " 322,\n",
              " 323,\n",
              " 324,\n",
              " 325,\n",
              " 326,\n",
              " 327,\n",
              " 328,\n",
              " 329,\n",
              " 330,\n",
              " 331,\n",
              " 332,\n",
              " 333,\n",
              " 334,\n",
              " 335,\n",
              " 336,\n",
              " 337,\n",
              " 338,\n",
              " 339,\n",
              " 340,\n",
              " 341,\n",
              " 342,\n",
              " 343,\n",
              " 344,\n",
              " 345,\n",
              " 346,\n",
              " 347,\n",
              " 348,\n",
              " 349,\n",
              " 350,\n",
              " 351,\n",
              " 352,\n",
              " 353,\n",
              " 354,\n",
              " 355,\n",
              " 356,\n",
              " 357,\n",
              " 358,\n",
              " 359,\n",
              " 360,\n",
              " 361,\n",
              " 362,\n",
              " 363,\n",
              " 364,\n",
              " 365,\n",
              " 366,\n",
              " 367,\n",
              " 368,\n",
              " 369,\n",
              " 370,\n",
              " 371,\n",
              " 372,\n",
              " 373,\n",
              " 374,\n",
              " 375,\n",
              " 376,\n",
              " 377,\n",
              " 378,\n",
              " 379,\n",
              " 380,\n",
              " 381,\n",
              " 382,\n",
              " 383,\n",
              " 384,\n",
              " 385,\n",
              " 386,\n",
              " 387,\n",
              " 388,\n",
              " 389,\n",
              " 390,\n",
              " 391,\n",
              " 392,\n",
              " 393,\n",
              " 394,\n",
              " 395,\n",
              " 396,\n",
              " 397,\n",
              " 398,\n",
              " 399,\n",
              " 400,\n",
              " 401,\n",
              " 402,\n",
              " 403,\n",
              " 404,\n",
              " 405,\n",
              " 406,\n",
              " 407,\n",
              " 408,\n",
              " 409,\n",
              " 410,\n",
              " 411,\n",
              " 412,\n",
              " 413,\n",
              " 414,\n",
              " 415,\n",
              " 416,\n",
              " 417,\n",
              " 418,\n",
              " 419,\n",
              " 420,\n",
              " 421,\n",
              " 422,\n",
              " 423,\n",
              " 424,\n",
              " 425,\n",
              " 426,\n",
              " 427,\n",
              " 428,\n",
              " 429,\n",
              " 430,\n",
              " 431,\n",
              " 432,\n",
              " 433,\n",
              " 434,\n",
              " 435,\n",
              " 436,\n",
              " 437,\n",
              " 438,\n",
              " 439,\n",
              " 440,\n",
              " 441,\n",
              " 442,\n",
              " 443,\n",
              " 444,\n",
              " 445,\n",
              " 446,\n",
              " 447,\n",
              " 448,\n",
              " 449,\n",
              " 450,\n",
              " 451,\n",
              " 452,\n",
              " 453,\n",
              " 454,\n",
              " 455,\n",
              " 456,\n",
              " 457,\n",
              " 458,\n",
              " 459,\n",
              " 460,\n",
              " 461,\n",
              " 462,\n",
              " 463,\n",
              " 464,\n",
              " 465,\n",
              " 466,\n",
              " 467,\n",
              " 468,\n",
              " 469,\n",
              " 470,\n",
              " 471,\n",
              " 472,\n",
              " 473,\n",
              " 474,\n",
              " 475,\n",
              " 476,\n",
              " 477,\n",
              " 478,\n",
              " 479,\n",
              " 480,\n",
              " 481,\n",
              " 482,\n",
              " 483,\n",
              " 484,\n",
              " 485,\n",
              " 486,\n",
              " 487,\n",
              " 488,\n",
              " 489,\n",
              " 490,\n",
              " 491,\n",
              " 492,\n",
              " 493,\n",
              " 494,\n",
              " 495,\n",
              " 496,\n",
              " 497,\n",
              " 498,\n",
              " 499,\n",
              " 500,\n",
              " 501,\n",
              " 502,\n",
              " 503,\n",
              " 504,\n",
              " 505,\n",
              " 506,\n",
              " 507,\n",
              " 508,\n",
              " 509,\n",
              " 510,\n",
              " 511,\n",
              " 512,\n",
              " 513,\n",
              " 514,\n",
              " 515,\n",
              " 516,\n",
              " 517,\n",
              " 518,\n",
              " 519,\n",
              " 520,\n",
              " 521,\n",
              " 522,\n",
              " 523,\n",
              " 524,\n",
              " 525,\n",
              " 526,\n",
              " 527,\n",
              " 528,\n",
              " 529,\n",
              " 530,\n",
              " 531,\n",
              " 532,\n",
              " 533,\n",
              " 534,\n",
              " 535,\n",
              " 536,\n",
              " 537,\n",
              " 538,\n",
              " 539,\n",
              " 540,\n",
              " 541,\n",
              " 542,\n",
              " 543,\n",
              " 544,\n",
              " 545,\n",
              " 546,\n",
              " 547,\n",
              " 548,\n",
              " 549,\n",
              " 550,\n",
              " 551,\n",
              " 552,\n",
              " 553,\n",
              " 554,\n",
              " 555,\n",
              " 556,\n",
              " 557,\n",
              " 558,\n",
              " 559,\n",
              " 560,\n",
              " 561,\n",
              " 562,\n",
              " 563,\n",
              " 564,\n",
              " 565,\n",
              " 566,\n",
              " 567,\n",
              " 568,\n",
              " 569,\n",
              " 570,\n",
              " 571,\n",
              " 572,\n",
              " 573,\n",
              " 574,\n",
              " 575,\n",
              " 576,\n",
              " 577,\n",
              " 578,\n",
              " 579,\n",
              " 580,\n",
              " 581,\n",
              " 582,\n",
              " 583,\n",
              " 584,\n",
              " 585,\n",
              " 586,\n",
              " 587,\n",
              " 588,\n",
              " 589,\n",
              " 590,\n",
              " 591,\n",
              " 592,\n",
              " 593,\n",
              " 594,\n",
              " 595,\n",
              " 596,\n",
              " 597,\n",
              " 598,\n",
              " 599,\n",
              " 600,\n",
              " 601,\n",
              " 602,\n",
              " 603,\n",
              " 604,\n",
              " 605,\n",
              " 606,\n",
              " 607,\n",
              " 608,\n",
              " 609,\n",
              " 610,\n",
              " 611,\n",
              " 612,\n",
              " 613,\n",
              " 614,\n",
              " 615,\n",
              " 616,\n",
              " 617,\n",
              " 618,\n",
              " 619,\n",
              " 620,\n",
              " 621,\n",
              " 622,\n",
              " 623,\n",
              " 624,\n",
              " 625,\n",
              " 626,\n",
              " 627,\n",
              " 628,\n",
              " 629,\n",
              " 630,\n",
              " 631,\n",
              " 632,\n",
              " 633,\n",
              " 634,\n",
              " 635,\n",
              " 636,\n",
              " 637,\n",
              " 638,\n",
              " 639,\n",
              " 640,\n",
              " 641,\n",
              " 642,\n",
              " 643,\n",
              " 644,\n",
              " 645,\n",
              " 646,\n",
              " 647,\n",
              " 648,\n",
              " 649,\n",
              " 650,\n",
              " 651,\n",
              " 652,\n",
              " 653,\n",
              " 654,\n",
              " 655,\n",
              " 656,\n",
              " 657,\n",
              " 658,\n",
              " 659,\n",
              " 660,\n",
              " 661,\n",
              " 662,\n",
              " 663,\n",
              " 664,\n",
              " 665,\n",
              " 666,\n",
              " 667,\n",
              " 668,\n",
              " 669,\n",
              " 670,\n",
              " 671,\n",
              " 672,\n",
              " 673,\n",
              " 674,\n",
              " 675,\n",
              " 676,\n",
              " 677,\n",
              " 678,\n",
              " 679,\n",
              " 680,\n",
              " 681,\n",
              " 682,\n",
              " 683,\n",
              " 684,\n",
              " 685,\n",
              " 686,\n",
              " 687,\n",
              " 688,\n",
              " 689,\n",
              " 690,\n",
              " 691,\n",
              " 692,\n",
              " 693,\n",
              " 694,\n",
              " 695,\n",
              " 696,\n",
              " 697,\n",
              " 698,\n",
              " 699,\n",
              " 700,\n",
              " 701,\n",
              " 702,\n",
              " 703,\n",
              " 704,\n",
              " 705,\n",
              " 706,\n",
              " 707,\n",
              " 708,\n",
              " 709,\n",
              " 710,\n",
              " 711,\n",
              " 712,\n",
              " 713,\n",
              " 714,\n",
              " 715,\n",
              " 716,\n",
              " 717,\n",
              " 718,\n",
              " 719,\n",
              " 720,\n",
              " 721,\n",
              " 722,\n",
              " 723,\n",
              " 724,\n",
              " 725,\n",
              " 726,\n",
              " 727,\n",
              " 728,\n",
              " 729,\n",
              " 730,\n",
              " 731,\n",
              " 732,\n",
              " 733,\n",
              " 734,\n",
              " 735,\n",
              " 736,\n",
              " 737,\n",
              " 738,\n",
              " 739,\n",
              " 740,\n",
              " 741,\n",
              " 742,\n",
              " 743,\n",
              " 744,\n",
              " 745,\n",
              " 746,\n",
              " 747,\n",
              " 748,\n",
              " 749,\n",
              " 750,\n",
              " 751,\n",
              " 752,\n",
              " 753,\n",
              " 754,\n",
              " 755,\n",
              " 756,\n",
              " 757,\n",
              " 758,\n",
              " 759,\n",
              " 760,\n",
              " 761,\n",
              " 762,\n",
              " 763,\n",
              " 764,\n",
              " 765,\n",
              " 766,\n",
              " 767,\n",
              " 768,\n",
              " 769,\n",
              " 770,\n",
              " 771,\n",
              " 772,\n",
              " 773,\n",
              " 774,\n",
              " 775,\n",
              " 776,\n",
              " 777,\n",
              " 778,\n",
              " 779,\n",
              " 780,\n",
              " 781,\n",
              " 782,\n",
              " 783,\n",
              " 784,\n",
              " 785,\n",
              " 786,\n",
              " 787,\n",
              " 788,\n",
              " 789,\n",
              " 790,\n",
              " 791,\n",
              " 792,\n",
              " 793,\n",
              " 794,\n",
              " 795,\n",
              " 796,\n",
              " 797,\n",
              " 798,\n",
              " 799,\n",
              " 800,\n",
              " 801,\n",
              " 802,\n",
              " 803,\n",
              " 804,\n",
              " 805,\n",
              " 806,\n",
              " 807,\n",
              " 808,\n",
              " 809,\n",
              " 810,\n",
              " 811,\n",
              " 812,\n",
              " 813,\n",
              " 814,\n",
              " 815,\n",
              " 816,\n",
              " 817,\n",
              " 818,\n",
              " 819,\n",
              " 820,\n",
              " 821,\n",
              " 822,\n",
              " 823,\n",
              " 824,\n",
              " 825,\n",
              " 826,\n",
              " 827,\n",
              " 828,\n",
              " 829,\n",
              " 830,\n",
              " 831,\n",
              " 832,\n",
              " 833,\n",
              " 834,\n",
              " 835,\n",
              " 836,\n",
              " 837,\n",
              " 838,\n",
              " 839,\n",
              " 840,\n",
              " 841,\n",
              " 842,\n",
              " 843,\n",
              " 844,\n",
              " 845,\n",
              " 846,\n",
              " 847,\n",
              " 848,\n",
              " 849,\n",
              " 850,\n",
              " 851,\n",
              " 852,\n",
              " 853,\n",
              " 854,\n",
              " 855,\n",
              " 856,\n",
              " 857,\n",
              " 858,\n",
              " 859,\n",
              " 860,\n",
              " 861,\n",
              " 862,\n",
              " 863,\n",
              " 864,\n",
              " 865,\n",
              " 866,\n",
              " 867,\n",
              " 868,\n",
              " 869,\n",
              " 870,\n",
              " 871,\n",
              " 872,\n",
              " 873,\n",
              " 874,\n",
              " 875,\n",
              " 876,\n",
              " 877,\n",
              " 878,\n",
              " 879,\n",
              " 880,\n",
              " 881,\n",
              " 882,\n",
              " 883,\n",
              " 884,\n",
              " 885,\n",
              " 886,\n",
              " 887,\n",
              " 888,\n",
              " 889,\n",
              " 890,\n",
              " 891,\n",
              " 892,\n",
              " 893,\n",
              " 894,\n",
              " 895,\n",
              " 896,\n",
              " 897,\n",
              " 898,\n",
              " 899,\n",
              " 900,\n",
              " 901,\n",
              " 902,\n",
              " 903,\n",
              " 904,\n",
              " 905,\n",
              " 906,\n",
              " 907,\n",
              " 908,\n",
              " 909,\n",
              " 910,\n",
              " 911,\n",
              " 912,\n",
              " 913,\n",
              " 914,\n",
              " 915,\n",
              " 916,\n",
              " 917,\n",
              " 918,\n",
              " 919,\n",
              " 920,\n",
              " 921,\n",
              " 922,\n",
              " 923,\n",
              " 924,\n",
              " 925,\n",
              " 926,\n",
              " 927,\n",
              " 928,\n",
              " 929,\n",
              " 930,\n",
              " 931,\n",
              " 932,\n",
              " 933,\n",
              " 934,\n",
              " 935,\n",
              " 936,\n",
              " 937,\n",
              " 938,\n",
              " 939,\n",
              " 940,\n",
              " 941,\n",
              " 942,\n",
              " 943,\n",
              " 944,\n",
              " 945,\n",
              " 946,\n",
              " 947,\n",
              " 948,\n",
              " 949,\n",
              " 950,\n",
              " 951,\n",
              " 952,\n",
              " 953,\n",
              " 954,\n",
              " 955,\n",
              " 956,\n",
              " 957,\n",
              " 958,\n",
              " 959,\n",
              " 960,\n",
              " 961,\n",
              " 962,\n",
              " 963,\n",
              " 964,\n",
              " 965,\n",
              " 966,\n",
              " 967,\n",
              " 968,\n",
              " 969,\n",
              " 970,\n",
              " 971,\n",
              " 972,\n",
              " 973,\n",
              " 974,\n",
              " 975,\n",
              " 976,\n",
              " 977,\n",
              " 978,\n",
              " 979,\n",
              " 980,\n",
              " 981,\n",
              " 982,\n",
              " 983,\n",
              " 984,\n",
              " 985,\n",
              " 986,\n",
              " 987,\n",
              " 988,\n",
              " 989,\n",
              " 990,\n",
              " 991,\n",
              " 992,\n",
              " 993,\n",
              " 994,\n",
              " 995,\n",
              " 996,\n",
              " 997,\n",
              " 998,\n",
              " 999,\n",
              " 1000]"
            ]
          },
          "metadata": {
            "tags": []
          },
          "execution_count": 14
        }
      ]
    },
    {
      "cell_type": "markdown",
      "metadata": {
        "id": "R3KMv0tjEgLv"
      },
      "source": [
        "Map functions\n",
        "\n",
        "Now that you've been working a little bit with RDDs, let's make this a little more interesting. Imagine you're running a hot new e-commerce startup called BuyStuff, and you're trying to track of how much it charges customers from each item sold. In the next cell, we're going to create simulated data by multiplying the values 1-1000 with a random number from 0-1."
      ]
    },
    {
      "cell_type": "code",
      "metadata": {
        "colab": {
          "base_uri": "https://localhost:8080/"
        },
        "id": "5SstLkvTEWkL",
        "outputId": "e07406ee-df67-41d7-ba93-1b65c4e78e23"
      },
      "source": [
        "import random\n",
        "import numpy as np\n",
        "\n",
        "nums = np.array(range(1, 1001))\n",
        "sales_figures = nums * np.random.rand(1000)\n",
        "sales_figures"
      ],
      "execution_count": 15,
      "outputs": [
        {
          "output_type": "execute_result",
          "data": {
            "text/plain": [
              "array([4.96579758e-01, 1.10386623e+00, 9.61696893e-01, 2.60199567e+00,\n",
              "       4.86510560e+00, 4.43719169e+00, 3.87904877e+00, 5.98441902e+00,\n",
              "       7.94433840e+00, 3.60703956e+00, 2.10470589e+00, 1.00195689e+01,\n",
              "       1.17153245e+01, 6.07405146e+00, 1.08513249e+01, 9.95799993e+00,\n",
              "       3.68748802e+00, 6.65129434e+00, 1.81301482e+01, 4.86264876e+00,\n",
              "       2.00536671e+01, 1.26699725e+01, 6.02742707e+00, 1.82173183e+01,\n",
              "       1.95796059e+01, 6.48693193e+00, 1.51153620e+01, 4.63378133e+00,\n",
              "       1.33883575e+01, 4.93047268e+00, 2.20528924e+01, 4.88773401e+00,\n",
              "       2.10024879e+01, 1.38532985e+01, 5.63975392e+00, 1.24346515e+01,\n",
              "       3.01881602e+01, 4.66392231e+00, 3.31927075e+00, 3.65288928e+01,\n",
              "       9.92912098e+00, 8.63224837e+00, 4.00103113e+00, 3.95281123e+01,\n",
              "       2.49375575e+00, 3.43744770e+01, 2.38122807e+01, 2.31425374e+01,\n",
              "       4.06364890e+01, 3.33765563e+01, 5.72207742e+00, 2.08699982e+01,\n",
              "       2.63048548e+01, 3.68973705e+01, 2.02591770e+01, 5.15189796e+01,\n",
              "       2.77185834e+01, 6.04200993e+00, 3.45750861e+01, 4.41711200e+00,\n",
              "       4.96048748e+01, 5.58914046e+01, 5.52625242e+01, 3.82245256e+01,\n",
              "       6.37839443e+01, 7.68634956e+00, 3.46530957e+01, 4.56026380e+01,\n",
              "       1.11016505e+01, 5.83247374e+01, 6.78724675e+01, 4.71051790e+01,\n",
              "       7.23868402e+01, 1.23564614e+01, 2.59975563e+01, 2.60015283e+01,\n",
              "       7.14880340e+00, 4.21901183e+01, 3.85544142e+01, 1.15515349e+01,\n",
              "       6.39271619e+01, 6.54747259e+01, 2.71680138e+00, 3.23598644e+01,\n",
              "       6.41014294e+01, 1.67547573e+01, 6.36158075e+01, 7.45091026e+01,\n",
              "       1.18338322e+01, 6.38048326e+01, 3.61597987e+01, 2.25462978e+01,\n",
              "       2.93233395e+01, 6.03308621e+01, 7.94419907e+00, 4.98517949e+01,\n",
              "       4.40843952e+00, 7.58452023e+01, 7.63926820e+01, 1.49696152e+00,\n",
              "       5.25045738e+01, 2.38750056e+01, 8.00166599e+01, 8.80244802e+01,\n",
              "       1.04393970e+02, 6.69536639e+01, 3.51711966e+01, 8.36318419e+01,\n",
              "       6.28152717e+00, 1.00691123e+01, 9.44896294e+01, 1.05322661e+02,\n",
              "       4.50135044e+01, 3.98820267e+01, 5.79499070e+01, 7.46499430e+01,\n",
              "       1.07393864e+02, 1.01436667e+02, 8.08393480e+01, 4.03639505e+01,\n",
              "       6.68544071e+01, 4.78786995e+01, 1.21321528e+02, 7.75333967e+01,\n",
              "       2.02393456e+01, 1.00444039e+02, 3.37031489e+01, 1.26096600e+02,\n",
              "       2.60842437e+01, 1.04120814e+02, 1.29695955e+02, 8.79652984e+01,\n",
              "       7.49633405e+00, 1.20304787e+02, 7.72891568e+01, 1.04446406e+01,\n",
              "       2.97935083e+01, 6.50099888e+01, 1.82843634e+00, 3.54962367e+01,\n",
              "       8.87171904e+01, 9.96660303e+01, 1.38741882e+02, 2.20435813e+01,\n",
              "       8.77067859e+01, 9.04579329e+01, 1.22580308e+02, 1.38346384e+01,\n",
              "       5.35308508e+01, 4.48121486e+01, 1.17089422e+02, 1.49930794e+01,\n",
              "       1.06621377e+02, 5.18271040e+01, 8.02727482e+01, 9.58570302e+01,\n",
              "       2.98470089e+01, 2.54931380e+01, 3.06539666e+00, 1.56479340e+01,\n",
              "       1.11232265e+02, 9.47235991e+00, 3.80295626e+01, 1.37840836e+02,\n",
              "       8.61792992e+01, 1.27148589e+02, 6.82091484e+01, 1.45440917e+02,\n",
              "       9.67334734e+01, 1.03172882e-01, 1.16767922e+02, 6.30842237e+01,\n",
              "       6.31924939e+01, 1.71511126e+02, 6.17302095e+01, 1.55427585e+02,\n",
              "       1.58821538e+02, 8.01547631e+01, 7.53831892e+01, 8.09035011e+01,\n",
              "       8.36390579e+01, 2.24296158e+01, 1.39821477e+02, 6.75291717e+01,\n",
              "       8.28495055e+01, 8.97742298e+01, 1.81283922e+02, 1.96419025e+01,\n",
              "       1.78631916e+02, 1.63192620e+02, 1.23527865e+02, 1.89502376e+02,\n",
              "       1.51594829e+02, 2.45873649e-01, 7.75677947e+01, 1.32342133e+02,\n",
              "       1.81434177e+02, 2.43210268e+01, 4.02849155e+01, 1.65265426e+02,\n",
              "       6.06362424e+01, 5.60949460e+01, 9.70390242e+01, 1.71503496e+02,\n",
              "       1.51187265e+01, 1.25817573e+02, 9.17718916e+01, 2.07155843e+02,\n",
              "       2.24719956e+00, 1.90023239e+02, 4.94605289e+01, 5.56871370e+01,\n",
              "       5.88830996e+01, 5.35652089e+01, 4.56495645e+01, 9.38097597e+01,\n",
              "       8.12330205e+01, 3.60602880e+01, 2.09400966e+01, 1.58570216e+02,\n",
              "       3.26050332e+01, 2.07930267e+02, 4.65838534e+01, 4.83713054e+01,\n",
              "       5.50786602e+01, 1.56936742e+02, 4.58183498e+01, 7.15728057e+00,\n",
              "       4.04336507e+01, 1.43589357e+02, 1.87162266e+02, 8.40270642e+01,\n",
              "       1.56292969e+02, 1.26834479e+02, 6.40694157e+01, 1.72917675e+02,\n",
              "       8.77514417e+01, 1.43111158e+02, 1.44251857e+01, 2.06993683e+02,\n",
              "       1.93776769e+02, 2.08198618e+02, 1.25101118e+02, 1.39697444e+02,\n",
              "       1.03619263e+01, 2.25133611e+02, 9.42206751e+01, 1.17994689e+02,\n",
              "       2.15962976e+02, 2.17232027e+02, 6.57678058e+01, 1.63481304e+02,\n",
              "       2.05098224e+02, 1.24696911e+02, 2.20816244e+02, 2.05381312e+02,\n",
              "       6.90633512e+01, 2.97931831e+01, 2.09867867e+02, 2.34825511e+02,\n",
              "       5.71633394e+01, 1.28019805e+02, 5.53737706e+01, 2.23794982e+02,\n",
              "       1.81636820e+02, 5.42011228e+01, 2.55765101e+02, 3.49322636e+01,\n",
              "       1.31828328e+02, 1.18286462e+02, 1.24465942e+02, 1.05317766e+02,\n",
              "       2.47122979e+02, 2.10140838e+02, 1.13033194e+02, 5.77014739e+01,\n",
              "       5.43728786e+01, 2.29460779e+02, 2.78575444e+02, 8.04848184e+01,\n",
              "       1.69259692e+02, 1.65290723e+02, 7.51421488e+01, 1.94902790e+02,\n",
              "       5.91273550e+01, 2.57946434e+02, 2.67174529e+02, 2.70285567e+02,\n",
              "       2.40927667e+02, 9.72771691e+01, 1.41996758e+02, 1.44209994e+01,\n",
              "       1.97871362e+02, 2.76830380e+02, 2.07794175e+02, 1.48586769e+02,\n",
              "       2.12935219e+02, 1.44015362e+01, 2.12625421e+02, 5.89233121e+01,\n",
              "       6.90933453e+01, 2.16397204e+02, 1.11318308e+02, 2.61443641e+02,\n",
              "       2.55745867e+02, 2.72910812e+02, 2.36746111e+02, 5.99609530e+01,\n",
              "       2.76976415e+02, 5.95905351e+00, 7.14934516e+01, 2.42998394e+02,\n",
              "       2.64988747e+02, 2.99212953e+02, 1.54718779e+02, 7.67089608e+01,\n",
              "       2.62789004e+02, 1.95273248e+02, 1.54370482e+02, 2.96904654e+02,\n",
              "       1.62040272e+02, 2.88023036e+02, 3.14627108e+02, 1.99849124e+02,\n",
              "       2.27330530e+02, 3.11873438e+02, 1.07783778e+02, 1.72479525e+02,\n",
              "       6.30864811e+00, 3.15486378e+02, 1.51785238e+02, 5.63142311e+01,\n",
              "       2.09065712e+02, 4.41373530e+01, 3.14634961e+02, 3.20073817e+02,\n",
              "       1.23337435e+02, 1.81370553e+02, 3.10064687e+02, 1.00110329e+02,\n",
              "       2.95056118e+01, 2.65556744e+02, 2.74028602e+01, 3.33226865e+02,\n",
              "       1.20492350e+02, 1.76260347e+02, 1.20557193e+02, 8.63293787e+01,\n",
              "       1.14151922e+02, 3.91616798e+01, 1.23585963e+02, 1.71742296e+02,\n",
              "       1.64482675e+01, 3.09603016e+02, 1.85390493e+02, 2.84510697e+02,\n",
              "       1.18667531e+01, 3.14936968e+02, 3.29439925e+02, 2.99179691e+02,\n",
              "       2.98037191e+02, 2.31085732e+02, 2.19156656e+01, 1.31157508e+02,\n",
              "       2.68223744e+02, 3.57060488e+02, 2.01546909e+02, 2.84076278e+02,\n",
              "       2.43270228e+02, 2.00879633e+02, 3.00784270e+02, 1.97946458e+02,\n",
              "       2.46847971e+02, 1.23232141e+02, 2.49974852e+01, 1.70857321e+02,\n",
              "       1.73048210e+02, 2.78413417e+02, 2.79675752e+02, 3.27361668e+02,\n",
              "       1.74623576e+02, 1.09185748e+02, 9.74751919e+00, 2.36990653e+02,\n",
              "       2.66278220e+01, 9.57552418e+01, 2.21172887e+02, 2.39594597e+02,\n",
              "       3.15465730e+02, 8.23510047e+01, 4.62529127e+01, 1.22332849e+02,\n",
              "       1.21727318e+02, 3.55651938e+02, 2.68654086e+02, 7.85395854e+01,\n",
              "       3.79730305e+02, 2.59957931e+02, 3.58136144e+02, 2.81163854e+02,\n",
              "       3.25000770e+02, 8.18416873e+01, 1.14002550e+02, 2.24460877e+02,\n",
              "       2.09884064e+02, 2.46980677e-03, 1.98422015e+02, 3.85329818e+02,\n",
              "       1.41384701e+02, 5.69043082e+01, 2.14944456e+02, 3.46231118e+01,\n",
              "       1.96320646e+02, 1.48163877e+02, 2.17302825e+02, 3.63582098e+02,\n",
              "       3.67049761e+02, 2.75851790e+02, 3.02351853e+02, 1.25626435e+02,\n",
              "       4.12232022e+02, 3.59339880e+01, 3.73081748e+01, 1.35953069e+02,\n",
              "       3.64134932e+02, 1.94980409e+02, 1.69836514e+01, 2.87531208e+02,\n",
              "       1.06868298e+02, 4.25991188e+02, 3.46089051e+02, 9.97984028e+00,\n",
              "       3.58874914e+02, 1.82232340e+02, 3.40123916e+02, 3.81197729e+02,\n",
              "       1.53108202e+02, 4.09422516e+01, 7.48726530e+01, 2.18046216e+02,\n",
              "       1.18622503e+02, 3.94460074e+02, 2.40666329e+02, 1.14634170e+02,\n",
              "       3.91683962e+01, 3.10570244e+02, 2.82630663e+01, 3.98702080e+02,\n",
              "       1.27174548e+02, 2.07931344e+02, 3.52121030e+02, 3.48236886e+01,\n",
              "       1.11341146e+02, 2.49550477e+02, 1.72329170e+02, 2.60081955e+02,\n",
              "       2.58630078e+02, 2.62354541e+02, 5.24893767e+01, 2.48963332e+02,\n",
              "       1.78481718e+02, 3.97428518e+02, 2.65661739e+02, 1.29714320e+02,\n",
              "       1.59709977e+02, 1.38326020e+02, 7.12060341e+01, 1.93446290e+02,\n",
              "       3.88736896e+01, 1.10140471e+02, 3.96472619e+02, 4.61699575e+02,\n",
              "       6.81747000e+01, 1.72175211e+02, 3.61091997e+02, 2.53006613e+02,\n",
              "       4.71609254e+02, 4.43915052e+02, 2.05721232e+02, 3.78512314e+02,\n",
              "       1.58354865e+02, 9.59230687e+01, 2.81142885e+02, 3.39457003e+02,\n",
              "       2.41418308e+01, 4.44143396e+02, 8.15803074e+01, 1.51065003e+00,\n",
              "       4.16867525e+02, 2.04316476e+02, 3.49585944e+02, 3.43062860e+02,\n",
              "       4.45734408e+02, 2.59402387e+02, 4.94177477e+02, 7.73700374e+01,\n",
              "       3.75264408e+02, 9.24295960e+01, 1.10934525e+02, 3.78095521e+02,\n",
              "       3.70011137e+01, 1.26305260e+02, 3.28882032e+02, 3.25192943e+02,\n",
              "       1.02472837e+02, 2.81767533e+02, 2.65978352e+02, 4.39470005e+02,\n",
              "       5.18201381e+01, 3.99364202e+02, 4.56581503e+02, 4.16731975e+02,\n",
              "       4.25264489e+02, 1.93302772e+02, 2.95929149e+02, 1.94782085e+02,\n",
              "       3.20261797e+02, 3.48062240e+02, 5.13574235e+01, 3.79637387e+02,\n",
              "       2.18433939e+02, 5.48624982e+01, 1.99242296e+02, 2.38314075e+02,\n",
              "       2.08627738e+01, 3.91922656e+02, 2.21347403e+02, 2.21935288e+02,\n",
              "       1.16031999e+02, 1.32926248e+02, 1.54147018e+00, 4.11675030e+02,\n",
              "       3.05150695e+02, 4.36203747e+02, 5.15327509e+02, 2.58212358e+02,\n",
              "       1.98977434e+02, 1.36511483e+02, 1.01333613e+02, 1.97740234e+02,\n",
              "       7.89030015e+01, 2.17276797e+02, 3.23179088e+02, 4.46473058e+02,\n",
              "       1.09325377e+01, 7.83172736e+01, 2.88693867e+02, 2.43541387e+02,\n",
              "       4.68300564e+01, 8.68608251e+01, 2.42210838e+02, 1.60023322e+02,\n",
              "       1.63246097e+02, 4.67015228e+02, 1.52085302e+02, 1.27914833e+02,\n",
              "       3.32502522e+02, 4.78772984e+01, 2.53573888e+02, 4.42167993e+02,\n",
              "       1.36399365e+01, 3.82488525e+02, 3.41895191e+01, 5.32541930e+02,\n",
              "       2.63897206e+02, 5.62297076e+02, 2.36586441e+02, 2.07611678e+01,\n",
              "       9.68076422e+00, 3.36503992e+02, 2.11469656e+02, 5.51476079e+02,\n",
              "       1.74559596e+02, 1.61452966e+02, 3.69133659e+02, 7.95550607e+01,\n",
              "       2.44749865e+02, 3.35255024e+02, 1.52591862e+02, 1.65270318e+02,\n",
              "       3.47589188e+02, 2.96345636e+02, 1.78215982e+01, 5.64845118e+02,\n",
              "       3.55894450e+02, 5.23444946e+02, 1.47397561e+02, 3.68339675e+02,\n",
              "       3.64515282e+02, 3.27736956e+02, 2.60958903e+02, 5.12669892e+02,\n",
              "       2.65391217e+02, 8.45422053e+01, 4.27517938e+02, 2.03720131e+02,\n",
              "       5.75834191e+02, 4.49941467e+02, 3.56554278e+02, 4.44906513e+02,\n",
              "       5.63851372e+02, 3.77437765e+02, 4.79684505e+02, 1.78295721e+02,\n",
              "       1.90671834e+01, 5.71135303e+02, 2.00747127e+02, 4.29970689e+02,\n",
              "       4.25294109e+02, 5.92841548e+02, 4.90494217e+02, 7.69717203e+01,\n",
              "       1.57445957e+02, 1.89000159e+02, 4.11920757e+02, 1.56425914e+02,\n",
              "       2.03998356e+02, 5.18811250e+02, 3.93556269e+02, 3.02570045e+02,\n",
              "       6.79480810e+01, 6.09244327e+02, 6.15266559e+02, 5.52130510e+02,\n",
              "       5.17476085e+02, 1.63635554e+02, 3.77758399e+02, 2.24550711e+02,\n",
              "       2.33365218e+02, 4.86644457e+02, 5.03213357e+02, 5.30071544e+02,\n",
              "       4.52581676e+02, 5.12059432e+01, 4.09949452e+02, 1.05657362e+02,\n",
              "       9.38126181e+01, 5.08130356e+02, 3.77294661e+02, 2.38776117e+02,\n",
              "       2.90841635e+02, 4.79981379e+02, 2.95430467e+02, 3.31995767e+01,\n",
              "       5.69814699e+02, 3.92912367e+02, 6.36499525e+02, 2.59633848e+02,\n",
              "       6.14352766e+02, 6.42523296e+02, 1.21953594e+02, 3.29758362e+02,\n",
              "       3.27970225e+02, 5.35544675e+02, 3.47603259e+02, 4.82915127e+02,\n",
              "       4.86751867e+02, 6.56421950e+01, 4.72451722e+02, 3.31393381e+02,\n",
              "       4.49137163e+02, 5.71873798e+02, 5.22657720e+02, 3.40733301e+02,\n",
              "       4.87726211e+02, 2.56277016e+00, 4.25269978e+01, 5.88897713e+01,\n",
              "       6.07862352e+02, 3.18259763e+02, 3.71118216e+02, 3.76001438e+02,\n",
              "       2.06726521e+02, 6.36864430e+02, 2.02254624e+02, 5.65577766e+02,\n",
              "       2.83306872e+02, 2.98930001e+02, 4.53436386e+02, 6.23461822e+02,\n",
              "       5.52184013e+02, 6.21424347e+02, 2.10999851e+02, 5.18706148e+02,\n",
              "       6.66290597e+02, 8.49148219e+01, 4.15347140e+02, 3.91732404e+02,\n",
              "       3.70327122e+02, 4.20406044e+02, 5.09107381e+02, 2.35757364e+02,\n",
              "       4.85726826e+02, 5.32981118e+02, 6.12867586e+01, 5.13451445e+02,\n",
              "       2.89383610e+02, 3.53345938e+02, 3.44095264e+02, 6.20159041e+00,\n",
              "       5.58802546e+01, 5.23673773e+02, 5.76162565e+01, 3.41978824e+02,\n",
              "       4.69862582e+02, 5.11272334e+01, 3.36274561e+02, 8.64459523e+00,\n",
              "       3.26868450e+02, 1.09839252e+02, 1.37151768e+02, 1.28777324e+02,\n",
              "       2.48003916e+01, 2.31596805e+02, 6.65180480e+02, 2.48564870e+02,\n",
              "       5.43663576e+02, 2.54885612e+01, 5.86390559e+02, 5.47218987e+02,\n",
              "       4.47033226e+02, 6.87214949e+02, 2.42654353e+02, 4.48497972e+02,\n",
              "       2.15557454e+02, 6.57205574e+02, 2.59171193e+02, 1.11834854e+02,\n",
              "       2.10395473e+02, 3.83913766e+02, 4.85677261e+02, 4.91930860e+02,\n",
              "       2.87829360e+01, 2.08585384e+02, 5.75781913e+02, 1.61053696e+02,\n",
              "       2.91282154e+01, 5.50656797e+02, 1.93124565e+02, 2.68290172e+02,\n",
              "       6.54551004e+02, 3.22033734e+02, 7.75900001e+01, 2.54756903e+02,\n",
              "       5.79151313e+02, 5.42025578e+01, 1.17698824e+02, 6.44701150e+02,\n",
              "       4.00272430e+02, 1.94859286e+01, 4.54828651e+02, 4.38810328e+02,\n",
              "       2.68718814e+02, 1.11700313e+02, 5.49464812e+02, 4.78556023e+01,\n",
              "       1.86849055e+02, 3.80055790e+02, 5.93811073e+02, 6.99868717e+02,\n",
              "       2.91763104e+02, 9.42270400e+01, 5.29047304e+02, 5.88625708e+02,\n",
              "       6.98766434e+01, 3.47457444e+02, 2.06693512e+02, 6.41128269e+02,\n",
              "       4.11490273e+02, 6.74170906e+02, 3.73098992e+02, 2.73881507e+01,\n",
              "       5.96700453e+02, 6.93083810e+02, 1.93923350e+02, 2.74590050e+02,\n",
              "       2.89179251e+02, 5.10886662e+00, 3.52786342e+02, 7.44560342e+02,\n",
              "       7.71559653e+02, 7.10823847e+02, 5.53602485e+02, 5.63976738e+02,\n",
              "       5.93151230e+01, 2.15889949e+02, 6.87543973e+02, 1.05737821e+02,\n",
              "       9.12402672e+01, 6.52373690e+02, 8.07650002e+01, 5.46027492e+02,\n",
              "       3.50597580e+02, 1.14727961e+02, 2.19767702e+02, 4.00675331e+02,\n",
              "       7.32203297e+02, 2.09596355e+02, 3.75988623e+02, 3.95772195e+02,\n",
              "       1.10747395e+02, 7.65618953e+02, 9.01415172e+01, 9.15797851e+01,\n",
              "       1.38007187e+02, 5.90092466e+02, 6.21834064e+02, 5.47973573e+02,\n",
              "       1.52276997e+02, 5.78011149e+02, 1.14688147e+02, 3.67081403e+02,\n",
              "       4.02440161e+02, 3.34323356e+02, 8.01777969e+02, 1.01285846e+02,\n",
              "       5.58815481e+02, 7.65050649e+02, 3.98764478e+02, 5.89993321e+02,\n",
              "       2.49269297e+02, 7.47303891e+02, 1.30591530e+02, 4.11967386e+02,\n",
              "       4.73748200e+00, 7.78930597e+02, 3.13548286e+02, 8.28465787e+01,\n",
              "       4.82223606e+02, 2.34560706e+02, 9.78606872e+01, 1.97251229e+02,\n",
              "       2.77638591e+02, 3.02265097e+02, 2.25919740e+02, 5.15490171e+02,\n",
              "       7.14459393e+02, 3.39747166e+02, 8.16746842e+02, 7.60188354e+02,\n",
              "       4.31230192e+02, 4.61943523e+02, 3.80652201e+01, 4.91865079e+02,\n",
              "       4.97522622e+02, 3.24949208e+02, 5.09074325e+02, 2.56906010e+01,\n",
              "       1.34973056e+02, 7.79586934e+02, 6.91495970e+02, 5.25714958e+02,\n",
              "       6.36413485e+02, 6.19951713e+02, 6.92716336e+02, 5.02819991e+01,\n",
              "       7.00365329e+02, 3.51199341e+02, 6.46388663e+02, 5.91785737e+02,\n",
              "       7.23600541e+02, 4.62896640e+01, 5.19740582e+02, 7.90650515e+02,\n",
              "       8.12458219e+02, 5.06272884e+01, 4.09080251e+02, 3.95534710e+02,\n",
              "       6.76263489e+01, 2.76175804e+02, 8.15883108e+02, 4.80519550e+01,\n",
              "       4.06269890e+02, 8.62865550e+02, 3.00409741e+02, 5.57674735e+02,\n",
              "       5.16561914e+02, 7.18302306e+02, 7.76407483e+02, 3.55724089e+02,\n",
              "       2.30245854e+02, 3.06292706e+02, 7.10150389e+02, 4.48058359e+02,\n",
              "       8.20173624e+02, 1.11062477e+02, 6.50385724e+02, 2.27135101e+02,\n",
              "       6.26823789e+02, 1.30419191e+02, 8.05357582e+02, 6.00038233e+02,\n",
              "       8.34895406e+02, 2.16298470e+02, 2.87305350e+02, 1.55396980e+02,\n",
              "       7.31659218e+02, 4.19090591e+02, 8.09883523e+02, 3.77453359e+02,\n",
              "       5.97738317e+02, 2.13680258e+02, 6.25833409e+02, 8.50582527e+02,\n",
              "       8.39701708e+02, 6.07414017e+01, 3.93865657e+02, 9.01943908e+02,\n",
              "       5.00165285e+01, 6.53472916e+02, 7.98248672e+02, 5.61270894e+02,\n",
              "       2.45809458e+02, 7.87662276e+02, 7.73738066e+02, 3.53292868e+02,\n",
              "       1.28320311e+02, 1.93639606e+02, 4.03721075e+02, 4.35798650e+02,\n",
              "       3.51572307e+02, 5.52270009e+02, 5.60808206e+02, 1.49136624e+02,\n",
              "       7.75234538e+02, 6.48765657e+02, 8.33325899e+02, 2.95943873e+02,\n",
              "       3.57677837e+02, 8.39156857e+02, 3.96882352e+02, 1.05231155e+02,\n",
              "       6.25790050e+02, 7.37725471e+02, 3.29858250e+02, 2.42608861e+01,\n",
              "       5.70701674e+01, 4.95421914e+02, 5.64667268e+02, 6.19734609e+02,\n",
              "       6.50571395e+00, 9.20678222e+02, 3.93706540e+02, 2.76323388e+02,\n",
              "       5.98832353e+02, 5.22628678e+02, 1.36196884e+02, 7.49106117e+02,\n",
              "       6.30409309e+02, 6.85472951e+02, 3.04171791e+02, 8.04036259e+02,\n",
              "       4.97593213e+02, 6.25664860e+00, 3.48789249e+02, 2.21216323e+02,\n",
              "       3.50685463e+01, 4.07525641e+02, 4.86119823e+02, 5.86062497e+02,\n",
              "       1.88826346e+02, 1.14981259e+02, 5.60856711e+02, 7.07899412e+01,\n",
              "       8.89140407e+02, 9.43786816e+02, 3.07339283e+02, 6.91711607e+02,\n",
              "       8.03923152e+02, 1.89477336e+02, 7.86519430e+01, 1.42566363e+02,\n",
              "       1.62980797e+02, 2.57825537e+02, 2.69946253e+02, 7.26332476e+02,\n",
              "       3.57687764e+02, 5.08972782e+02, 5.02125233e+02, 8.07947575e+02,\n",
              "       1.73512795e+02, 4.43585292e+01, 1.70046566e+02, 6.04043324e+01,\n",
              "       9.00506179e+01, 7.25121302e+02, 7.90752151e+02, 6.64368789e+02,\n",
              "       7.80261725e+02, 6.82638617e+02, 5.36366723e+02, 9.83469398e+02,\n",
              "       6.39831223e+02, 2.01407712e+02, 5.09588883e+02, 1.16800251e+02,\n",
              "       1.94935039e+01, 1.28027999e+02, 8.52787251e+02, 4.64474765e+02])"
            ]
          },
          "metadata": {
            "tags": []
          },
          "execution_count": 15
        }
      ]
    },
    {
      "cell_type": "markdown",
      "metadata": {
        "id": "fPAhn9A2EuWT"
      },
      "source": [
        "We now have sales prices for 1000 items currently for sale at BuyStuff. Now create an RDD called price_items using the newly created data with 10 slices. After you create it, use one of the basic actions to see what's in the RDD."
      ]
    },
    {
      "cell_type": "code",
      "metadata": {
        "colab": {
          "base_uri": "https://localhost:8080/"
        },
        "id": "4uHswjiUEk9B",
        "outputId": "9596817a-2040-498d-dd58-d56c49b6c9a1"
      },
      "source": [
        "price_items = sc.parallelize(sales_figures, numSlices=10)\n",
        "price_items.take(4)"
      ],
      "execution_count": 16,
      "outputs": [
        {
          "output_type": "execute_result",
          "data": {
            "text/plain": [
              "[0.4965797583970063, 1.103866226488248, 0.961696893165108, 2.6019956741546504]"
            ]
          },
          "metadata": {
            "tags": []
          },
          "execution_count": 16
        }
      ]
    },
    {
      "cell_type": "markdown",
      "metadata": {
        "id": "N_TUggehQuMp"
      },
      "source": [
        "Now let's perform some operations on this simple dataset. To begin with, create a function that will take into account how much money BuyStuff will receive after sales tax has been applied (assume a sales tax of 8%). To make this happen, create a function called sales_tax() that returns the amount of money our company will receive after the sales tax has been applied. The function will have this parameter:\n",
        "\n",
        "item: (float) number to be multiplied by the sales tax.\n",
        "\n",
        "Apply that function to the rdd by using the .map() method and assign it to a variable renenue_minus_tax"
      ]
    },
    {
      "cell_type": "code",
      "metadata": {
        "id": "-DVNB0h-EvDm"
      },
      "source": [
        "def sales_tax(num):\n",
        "    return num * 0.92\n",
        "\n",
        "revenue_minus_tax = price_items.map(sales_tax)"
      ],
      "execution_count": 17,
      "outputs": []
    },
    {
      "cell_type": "markdown",
      "metadata": {
        "id": "Y4brFz_lRF4w"
      },
      "source": [
        "Remember, Spark has lazy evaluation, which means that the sales_tax() function is a transformer that is not executed until you call an action. Use one of the collection methods to execute the transformer now a part of the RDD and observe the contents of the revenue_minus_tax rdd."
      ]
    },
    {
      "cell_type": "code",
      "metadata": {
        "colab": {
          "base_uri": "https://localhost:8080/"
        },
        "id": "2C5AgK2vQwTI",
        "outputId": "dc63ebc1-a73b-4d18-8e2d-2ccdf671717d"
      },
      "source": [
        "revenue_minus_tax.take(10)"
      ],
      "execution_count": 18,
      "outputs": [
        {
          "output_type": "execute_result",
          "data": {
            "text/plain": [
              "[0.4568533777252458,\n",
              " 1.015556928369188,\n",
              " 0.8847611417118993,\n",
              " 2.3938360202222784,\n",
              " 4.4758971553324125,\n",
              " 4.082216356845887,\n",
              " 3.5687248725699683,\n",
              " 5.505665493968886,\n",
              " 7.308791332559082,\n",
              " 3.3184763906203187]"
            ]
          },
          "metadata": {
            "tags": []
          },
          "execution_count": 18
        }
      ]
    },
    {
      "cell_type": "markdown",
      "metadata": {
        "id": "lD0i2SsrRNhO"
      },
      "source": [
        "Lambda Functions\n",
        "\n",
        "Note that you can also use lambda functions if you want to quickly perform simple operations on data without creating a function. Let's assume that BuyStuff has also decided to offer a 10% discount on all of their items on the pre-tax amounts of each item. Use a lambda function within a .map() method to apply the additional 10% loss in revenue for BuyStuff and assign the transformed RDD to a new RDD called discounted."
      ]
    },
    {
      "cell_type": "code",
      "metadata": {
        "id": "RkFSglxkRKot"
      },
      "source": [
        "discounted = revenue_minus_tax.map(lambda x : x*0.9)"
      ],
      "execution_count": 19,
      "outputs": []
    },
    {
      "cell_type": "code",
      "metadata": {
        "colab": {
          "base_uri": "https://localhost:8080/"
        },
        "id": "T7eC65URRSOf",
        "outputId": "5ab033a9-d09b-4f66-9df8-537426c165d6"
      },
      "source": [
        "discounted.take(10)"
      ],
      "execution_count": 20,
      "outputs": [
        {
          "output_type": "execute_result",
          "data": {
            "text/plain": [
              "[0.4111680399527212,\n",
              " 0.9140012355322693,\n",
              " 0.7962850275407094,\n",
              " 2.1544524182000506,\n",
              " 4.028307439799171,\n",
              " 3.673994721161298,\n",
              " 3.2118523853129717,\n",
              " 4.955098944571997,\n",
              " 6.5779121993031735,\n",
              " 2.9866287515582868]"
            ]
          },
          "metadata": {
            "tags": []
          },
          "execution_count": 20
        }
      ]
    },
    {
      "cell_type": "markdown",
      "metadata": {
        "id": "IzQTpDvESP1r"
      },
      "source": [
        "Chaining Methods\n",
        "\n",
        "You are also able to chain methods together with Spark. In one line, remove the tax and discount from the revenue of BuyStuff and use a collection method to see the 15 costliest items."
      ]
    },
    {
      "cell_type": "code",
      "metadata": {
        "colab": {
          "base_uri": "https://localhost:8080/"
        },
        "id": "QcUsRPhHRVsJ",
        "outputId": "5b061571-aefb-4dbd-814d-415601e85ff6"
      },
      "source": [
        "price_items.map(sales_tax).map(lambda x : x*0.9).top(15)\n"
      ],
      "execution_count": 21,
      "outputs": [
        {
          "output_type": "execute_result",
          "data": {
            "text/plain": [
              "[814.3126611453371,\n",
              " 781.4554839313305,\n",
              " 762.3215675493833,\n",
              " 746.8095562229207,\n",
              " 736.2082566578584,\n",
              " 714.4526753088852,\n",
              " 706.1078441111,\n",
              " 704.2823325972296,\n",
              " 695.2730141167323,\n",
              " 694.821877293275,\n",
              " 691.2933958021481,\n",
              " 689.9938440775117,\n",
              " 679.1037604647214,\n",
              " 676.2663855287158,\n",
              " 675.551213488991]"
            ]
          },
          "metadata": {
            "tags": []
          },
          "execution_count": 21
        }
      ]
    },
    {
      "cell_type": "markdown",
      "metadata": {
        "id": "uc1wvV8DSvSE"
      },
      "source": [
        "RDD Lineage\n",
        "\n",
        "We are able to see the full lineage of all the operations that have been performed on an RDD by using the RDD.toDebugString() method. As your transformations become more complex, you are encouraged to call this method to get a better understanding of the dependencies between RDDs. Try calling it on the discounted RDD to see what RDDs it is dependent on."
      ]
    },
    {
      "cell_type": "code",
      "metadata": {
        "colab": {
          "base_uri": "https://localhost:8080/"
        },
        "id": "Sz4wLoVsSUka",
        "outputId": "03a22ca1-c51c-402c-ff3f-f4b594b4b11b"
      },
      "source": [
        "discounted.toDebugString()\n"
      ],
      "execution_count": 22,
      "outputs": [
        {
          "output_type": "execute_result",
          "data": {
            "text/plain": [
              "b'(10) PythonRDD[10] at RDD at PythonRDD.scala:53 []\\n |   ParallelCollectionRDD[5] at parallelize at PythonRDD.scala:195 []'"
            ]
          },
          "metadata": {
            "tags": []
          },
          "execution_count": 22
        }
      ]
    },
    {
      "cell_type": "markdown",
      "metadata": {
        "id": "sOdfXexTS1tG"
      },
      "source": [
        "Map vs. Flatmap\n",
        "\n",
        "Depending on how you want your data to be outputted, you might want to use .flatMap() rather than a simple .map(). Let's take a look at how it performs operations versus the standard map. Let's say we wanted to maintain the original amount BuyStuff receives for each item as well as the new amount after the tax and discount are applied. Create a map function that will return a tuple with (original price, post-discount price)."
      ]
    },
    {
      "cell_type": "code",
      "metadata": {
        "colab": {
          "base_uri": "https://localhost:8080/"
        },
        "id": "Zxh6mkqbSy6e",
        "outputId": "568f527b-16e5-49c6-8b94-7504172600d7"
      },
      "source": [
        "mapped = price_items.map(lambda x: (x, x*0.92 *0.9))\n",
        "print(mapped.count())\n",
        "print(mapped.take(10))"
      ],
      "execution_count": 23,
      "outputs": [
        {
          "output_type": "stream",
          "text": [
            "1000\n",
            "[(0.4965797583970063, 0.4111680399527212), (1.103866226488248, 0.9140012355322693), (0.961696893165108, 0.7962850275407094), (2.6019956741546504, 2.1544524182000506), (4.865105603622188, 4.028307439799171), (4.43719169222379, 3.673994721161298), (3.879048774532574, 3.2118523853129717), (5.984419015183572, 4.955098944571997), (7.9443384049555235, 6.5779121993031735), (3.6070395550220855, 2.9866287515582868)]\n"
          ],
          "name": "stdout"
        }
      ]
    },
    {
      "cell_type": "markdown",
      "metadata": {
        "id": "TZNfoem6S8hO"
      },
      "source": [
        "Note that we have 1000 tuples created to our specification. Let's take a look at how .flatMap() differs in its implementation. Use the .flatMap() method with the same function you created above."
      ]
    },
    {
      "cell_type": "code",
      "metadata": {
        "colab": {
          "base_uri": "https://localhost:8080/"
        },
        "id": "WdpPOCFvS6JS",
        "outputId": "a857fc3e-6e65-40ad-a0dd-419d354a46a6"
      },
      "source": [
        "flat_mapped = price_items.flatMap(lambda x : (x, x*0.92*0.9 ))\n",
        "print(flat_mapped.count())\n",
        "print(flat_mapped.take(10))"
      ],
      "execution_count": 24,
      "outputs": [
        {
          "output_type": "stream",
          "text": [
            "2000\n",
            "[0.4965797583970063, 0.4111680399527212, 1.103866226488248, 0.9140012355322693, 0.961696893165108, 0.7962850275407094, 2.6019956741546504, 2.1544524182000506, 4.865105603622188, 4.028307439799171]\n"
          ],
          "name": "stdout"
        }
      ]
    },
    {
      "cell_type": "markdown",
      "metadata": {
        "id": "W63oGKI1T0FT"
      },
      "source": [
        "Rather than being represented by tuples, all of the values are now on the same level. When we are trying to combine different items together, it is sometimes necessary to use .flatMap() rather than .map() in order to properly reduce to our specifications. This is not one of those instances, but in the upcoming lab, you just might have to use it."
      ]
    },
    {
      "cell_type": "markdown",
      "metadata": {
        "id": "zAT2zZcnT0CN"
      },
      "source": [
        "Filter\n",
        "\n",
        "After meeting with some external consultants, BuyStuff has determined that its business will be more profitable if it focuses on higher ticket items. Now, use the .filter() method to select items that bring in more than $300 after tax and discount have been removed. A filter method is a specialized form of a map function that only returns the items that match a certain criterion. In the cell below:\n",
        "\n",
        "* use a lambda function within a .filter() method to meet the consultant's suggestion's specifications. set RDD = selected_items\n",
        "\n",
        "* calculate the total number of items remaining in BuyStuff's inventory"
      ]
    },
    {
      "cell_type": "code",
      "metadata": {
        "colab": {
          "base_uri": "https://localhost:8080/"
        },
        "id": "WxWBIDfETAUz",
        "outputId": "1363683d-4cb2-41f6-b5db-b94b3095aa05"
      },
      "source": [
        "selected_items = discounted.filter(lambda x: x>300)\n",
        "selected_items.count()"
      ],
      "execution_count": 25,
      "outputs": [
        {
          "output_type": "execute_result",
          "data": {
            "text/plain": [
              "266"
            ]
          },
          "metadata": {
            "tags": []
          },
          "execution_count": 25
        }
      ]
    },
    {
      "cell_type": "markdown",
      "metadata": {
        "id": "WWUcMEoMTzGZ"
      },
      "source": [
        "Reduce\n",
        "\n",
        "Reduce functions are where you are in some way combing all of the variables that you have mapped out. Here is an example of how a reduce function works when the task is to sum all values:"
      ]
    },
    {
      "cell_type": "markdown",
      "metadata": {
        "id": "dWHgV1VPSbJT"
      },
      "source": [
        "As you can see, the operation is performed within each partition first, after which, the results of the computations in each partition are combined to come up with one final answer.\n",
        "\n",
        "Now it's time to figure out how much money BuyStuff would make from selling one of all of its items after they've reduced their inventory. Use the .reduce() method with a lambda function to add up all of the values in the RDD. Your lambda function should have two variables.\n"
      ]
    },
    {
      "cell_type": "code",
      "metadata": {
        "colab": {
          "base_uri": "https://localhost:8080/"
        },
        "id": "19PXZoWbUO6p",
        "outputId": "b81ed76b-9561-49a1-aa62-81280694e61d"
      },
      "source": [
        "selected_items.reduce(lambda x,y: x + y)"
      ],
      "execution_count": 26,
      "outputs": [
        {
          "output_type": "execute_result",
          "data": {
            "text/plain": [
              "123171.37975248425"
            ]
          },
          "metadata": {
            "tags": []
          },
          "execution_count": 26
        }
      ]
    },
    {
      "cell_type": "markdown",
      "metadata": {
        "id": "GJVSRIGLVnz8"
      },
      "source": [
        "The time has come for BuyStuff to open up shop and start selling its goods. It only has one of each item, but it's allowing 50 lucky users to buy as many items as they want while they remain in stock. Within seconds, BuyStuff is sold out. Below, you'll find the sales data in an RDD with tuples of (user, item bought)."
      ]
    },
    {
      "cell_type": "code",
      "metadata": {
        "colab": {
          "base_uri": "https://localhost:8080/"
        },
        "id": "NQqgzKlzVMfK",
        "outputId": "29f81b76-2360-4c29-e5d0-4013a0e1fe63"
      },
      "source": [
        "import random\n",
        "random.seed(42)\n",
        "# generating simulated users that have bought each item\n",
        "sales_data = selected_items.map(lambda x: (random.randint(1, 50), x))\n",
        "\n",
        "sales_data.take(7)"
      ],
      "execution_count": 27,
      "outputs": [
        {
          "output_type": "execute_result",
          "data": {
            "text/plain": [
              "[(45, 314.41669223178445),\n",
              " (45, 319.0530895095557),\n",
              " (20, 301.04597754711034),\n",
              " (49, 303.91720209183035),\n",
              " (3, 341.3281138236366),\n",
              " (41, 301.5037235324806),\n",
              " (9, 352.72070359015277)]"
            ]
          },
          "metadata": {
            "tags": []
          },
          "execution_count": 27
        }
      ]
    },
    {
      "cell_type": "markdown",
      "metadata": {
        "id": "sY6ejXUtV-xC"
      },
      "source": [
        "It's time to determine some basic statistics about BuyStuff users.\n",
        "\n",
        "Let's start off by creating an RDD that determines how much each user spent in total. To do this we can use a method called .reduceByKey() to perform reducing operations while grouping by keys. After you have calculated the total, use the .sortBy() method on the RDD to rank the users from the highest spending to the least spending."
      ]
    },
    {
      "cell_type": "code",
      "metadata": {
        "colab": {
          "base_uri": "https://localhost:8080/"
        },
        "id": "1Vl3DOWaV4n9",
        "outputId": "2d8d1fa9-56b1-442d-8485-4208c933d2d2"
      },
      "source": [
        "total_spent = sales_data.reduceByKey(lambda x, y: x + y)\n",
        "total_spent.take(10)"
      ],
      "execution_count": 28,
      "outputs": [
        {
          "output_type": "execute_result",
          "data": {
            "text/plain": [
              "[(20, 4984.209046679964),\n",
              " (40, 5788.947136353512),\n",
              " (50, 4738.1959162523035),\n",
              " (30, 3925.966681817567),\n",
              " (10, 903.0974739944991),\n",
              " (41, 3584.271434564368),\n",
              " (31, 2192.8641971455086),\n",
              " (21, 2258.933228492372),\n",
              " (11, 1097.811131623795),\n",
              " (32, 1512.184471277144)]"
            ]
          },
          "metadata": {
            "tags": []
          },
          "execution_count": 28
        }
      ]
    },
    {
      "cell_type": "code",
      "metadata": {
        "colab": {
          "base_uri": "https://localhost:8080/"
        },
        "id": "_JuEOueGWGrj",
        "outputId": "5d44b23f-d499-46e8-8ee1-56d52bce55a8"
      },
      "source": [
        "total_spent.sortBy(lambda x: x[1],ascending = False).collect()\n"
      ],
      "execution_count": 29,
      "outputs": [
        {
          "output_type": "execute_result",
          "data": {
            "text/plain": [
              "[(6, 5871.562739839272),\n",
              " (40, 5788.947136353512),\n",
              " (25, 5337.369522765671),\n",
              " (49, 5330.1024736846375),\n",
              " (20, 4984.209046679964),\n",
              " (50, 4738.1959162523035),\n",
              " (45, 4643.032851610689),\n",
              " (46, 3996.0147652224914),\n",
              " (30, 3925.966681817567),\n",
              " (28, 3674.964595818863),\n",
              " (41, 3584.271434564368),\n",
              " (35, 3526.116894520519),\n",
              " (43, 3482.3868739607296),\n",
              " (47, 3301.8113773617265),\n",
              " (27, 3279.535308816164),\n",
              " (29, 3203.8534333389157),\n",
              " (33, 3081.5625265909257),\n",
              " (13, 3009.118215420109),\n",
              " (12, 2916.6179399749817),\n",
              " (24, 2831.146559633781),\n",
              " (17, 2813.024176776675),\n",
              " (14, 2628.207277598826),\n",
              " (34, 2397.673925102441),\n",
              " (22, 2357.411575171265),\n",
              " (21, 2258.933228492372),\n",
              " (31, 2192.8641971455086),\n",
              " (3, 2184.3888691935927),\n",
              " (42, 2026.0939417458628),\n",
              " (5, 1948.1475255240846),\n",
              " (4, 1811.2921384944202),\n",
              " (36, 1775.404588464089),\n",
              " (48, 1698.1217522619966),\n",
              " (26, 1688.2666819679957),\n",
              " (16, 1686.04388438282),\n",
              " (19, 1660.6977392572262),\n",
              " (23, 1521.3348061304027),\n",
              " (32, 1512.184471277144),\n",
              " (8, 1512.1651421395186),\n",
              " (39, 1464.743825721974),\n",
              " (11, 1097.811131623795),\n",
              " (10, 903.0974739944991),\n",
              " (18, 833.3327105514958),\n",
              " (44, 712.7632685546026),\n",
              " (15, 691.2933958021481),\n",
              " (9, 653.6227205497978),\n",
              " (7, 635.673010332504)]"
            ]
          },
          "metadata": {
            "tags": []
          },
          "execution_count": 29
        }
      ]
    },
    {
      "cell_type": "markdown",
      "metadata": {
        "id": "bIjHnYoE59Qc"
      },
      "source": [
        "Next, let's determine how many items were bought per user. This can be solved in one line using an RDD method. After you've counted the total number of items bought per person, sort the users from most number of items bought to least number of items. Time to start a customer loyalty program!"
      ]
    },
    {
      "cell_type": "code",
      "metadata": {
        "colab": {
          "base_uri": "https://localhost:8080/"
        },
        "id": "huqzqPivXWYC",
        "outputId": "3fdc6dc7-b532-4dd7-b367-f71d10e4ab3a"
      },
      "source": [
        "total_items = sales_data.countByKey()\n",
        "sorted(total_items.items(),key=lambda kv:kv[1],reverse=True)"
      ],
      "execution_count": 30,
      "outputs": [
        {
          "output_type": "execute_result",
          "data": {
            "text/plain": [
              "[(45, 12),\n",
              " (49, 11),\n",
              " (40, 11),\n",
              " (6, 11),\n",
              " (46, 10),\n",
              " (50, 10),\n",
              " (25, 10),\n",
              " (20, 9),\n",
              " (41, 8),\n",
              " (27, 8),\n",
              " (30, 8),\n",
              " (24, 7),\n",
              " (3, 6),\n",
              " (14, 6),\n",
              " (22, 6),\n",
              " (17, 6),\n",
              " (28, 6),\n",
              " (33, 6),\n",
              " (36, 6),\n",
              " (34, 6),\n",
              " (13, 6),\n",
              " (35, 6),\n",
              " (29, 6),\n",
              " (47, 6),\n",
              " (12, 6),\n",
              " (43, 5),\n",
              " (31, 5),\n",
              " (8, 4),\n",
              " (32, 4),\n",
              " (16, 4),\n",
              " (4, 4),\n",
              " (26, 4),\n",
              " (39, 4),\n",
              " (48, 4),\n",
              " (42, 4),\n",
              " (21, 4),\n",
              " (5, 4),\n",
              " (19, 4),\n",
              " (23, 4),\n",
              " (9, 2),\n",
              " (18, 2),\n",
              " (44, 2),\n",
              " (7, 2),\n",
              " (11, 2),\n",
              " (10, 2),\n",
              " (15, 2),\n",
              " (37, 1)]"
            ]
          },
          "metadata": {
            "tags": []
          },
          "execution_count": 30
        }
      ]
    },
    {
      "cell_type": "code",
      "metadata": {
        "id": "RBfosx_z6Wi6"
      },
      "source": [
        ""
      ],
      "execution_count": null,
      "outputs": []
    }
  ]
}